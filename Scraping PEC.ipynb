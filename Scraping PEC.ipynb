{
 "cells": [
  {
   "cell_type": "markdown",
   "id": "79f4289b",
   "metadata": {},
   "source": [
    "# Inputs"
   ]
  },
  {
   "cell_type": "code",
   "execution_count": 1,
   "id": "c4f5783f",
   "metadata": {},
   "outputs": [],
   "source": [
    "# Path to chromedriver. Use same \\ and keep leading r\n",
    "chromedriver_path = r\"C:\\Users\\Alessandro Bitetto\\Downloads\\UniPV\\Scraping_PEC\\WebDriver\\chromedriver\"\n",
    "\n",
    "# web page\n",
    "web_page = \"https://www.ufficiocamerale.it/cerca-pec-azienda\"\n",
    "\n",
    "# VAT list  - VAT must be without leading \"IT\" - .csv with 1 column \"VAT\" - Use same \\ and keep leading r\n",
    "VAT_file = r\"C:\\Users\\Alessandro Bitetto\\Downloads\\110Laude\\110L_SIR\\03_Output\\df_VAR_for_PEC.csv\"\n",
    "VAT_file_sep = \";\"\n",
    "\n",
    "# output csv separator\n",
    "OUT_file_sep = \";\""
   ]
  },
  {
   "cell_type": "markdown",
   "id": "689494cf",
   "metadata": {},
   "source": [
    "# Scrape"
   ]
  },
  {
   "cell_type": "code",
   "execution_count": 2,
   "id": "1163786f",
   "metadata": {
    "scrolled": true
   },
   "outputs": [
    {
     "name": "stdout",
     "output_type": "stream",
     "text": [
      "Launching Chrome...OK\n",
      "\n",
      "Querying VAT 59 / 7876\r"
     ]
    },
    {
     "ename": "ElementClickInterceptedException",
     "evalue": "Message: element click intercepted: Element <input type=\"text\" class=\"form-control\" id=\"partita_iva\" placeholder=\"  \"> is not clickable at point (663, 354). Other element would receive the click: <div class=\"c-line lightgrey-bg-c1 px-4 py-4\">...</div>\n  (Session info: chrome=101.0.4951.67)\n",
     "output_type": "error",
     "traceback": [
      "\u001b[1;31m---------------------------------------------------------------------------\u001b[0m",
      "\u001b[1;31mElementClickInterceptedException\u001b[0m          Traceback (most recent call last)",
      "\u001b[1;32m<ipython-input-2-b96663dc7cb7>\u001b[0m in \u001b[0;36m<module>\u001b[1;34m\u001b[0m\n\u001b[0;32m      1\u001b[0m \u001b[1;32mfrom\u001b[0m \u001b[0mutils\u001b[0m \u001b[1;32mimport\u001b[0m \u001b[0mget_chromedriver\u001b[0m\u001b[1;33m,\u001b[0m \u001b[0mscrape_PEC\u001b[0m\u001b[1;33m\u001b[0m\u001b[1;33m\u001b[0m\u001b[0m\n\u001b[0;32m      2\u001b[0m \u001b[1;33m\u001b[0m\u001b[0m\n\u001b[1;32m----> 3\u001b[1;33m \u001b[0mscrape_PEC\u001b[0m\u001b[1;33m(\u001b[0m\u001b[0mchromedriver_path\u001b[0m\u001b[1;33m,\u001b[0m \u001b[0mweb_page\u001b[0m\u001b[1;33m,\u001b[0m \u001b[0mVAT_file\u001b[0m\u001b[1;33m,\u001b[0m \u001b[0mVAT_file_sep\u001b[0m\u001b[1;33m,\u001b[0m \u001b[0mOUT_file_sep\u001b[0m\u001b[1;33m)\u001b[0m\u001b[1;33m\u001b[0m\u001b[1;33m\u001b[0m\u001b[0m\n\u001b[0m",
      "\u001b[1;32m~\\Downloads\\UniPV\\Scraping_PEC\\utils.py\u001b[0m in \u001b[0;36mscrape_PEC\u001b[1;34m(chromedriver_path, web_page, VAT_file, VAT_file_sep, OUT_file_sep)\u001b[0m\n\u001b[0;32m    118\u001b[0m             \u001b[0mstop\u001b[0m \u001b[1;33m=\u001b[0m \u001b[1;36m0\u001b[0m\u001b[1;33m\u001b[0m\u001b[1;33m\u001b[0m\u001b[0m\n\u001b[0;32m    119\u001b[0m             \u001b[1;32mwhile\u001b[0m \u001b[0mstop\u001b[0m \u001b[1;33m==\u001b[0m \u001b[1;36m0\u001b[0m\u001b[1;33m:\u001b[0m\u001b[1;33m\u001b[0m\u001b[1;33m\u001b[0m\u001b[0m\n\u001b[1;32m--> 120\u001b[1;33m                 \u001b[0mdriver\u001b[0m\u001b[1;33m.\u001b[0m\u001b[0mfind_element_by_id\u001b[0m\u001b[1;33m(\u001b[0m\u001b[1;34m\"partita_iva\"\u001b[0m\u001b[1;33m)\u001b[0m\u001b[1;33m.\u001b[0m\u001b[0mclick\u001b[0m\u001b[1;33m(\u001b[0m\u001b[1;33m)\u001b[0m\u001b[1;33m\u001b[0m\u001b[1;33m\u001b[0m\u001b[0m\n\u001b[0m\u001b[0;32m    121\u001b[0m                 \u001b[0mdriver\u001b[0m\u001b[1;33m.\u001b[0m\u001b[0mfind_element_by_id\u001b[0m\u001b[1;33m(\u001b[0m\u001b[1;34m\"partita_iva\"\u001b[0m\u001b[1;33m)\u001b[0m\u001b[1;33m.\u001b[0m\u001b[0mclear\u001b[0m\u001b[1;33m(\u001b[0m\u001b[1;33m)\u001b[0m\u001b[1;33m\u001b[0m\u001b[1;33m\u001b[0m\u001b[0m\n\u001b[0;32m    122\u001b[0m                 \u001b[0mdriver\u001b[0m\u001b[1;33m.\u001b[0m\u001b[0mfind_element_by_id\u001b[0m\u001b[1;33m(\u001b[0m\u001b[1;34m\"partita_iva\"\u001b[0m\u001b[1;33m)\u001b[0m\u001b[1;33m.\u001b[0m\u001b[0msend_keys\u001b[0m\u001b[1;33m(\u001b[0m\u001b[0mvat\u001b[0m\u001b[1;33m)\u001b[0m\u001b[1;33m\u001b[0m\u001b[1;33m\u001b[0m\u001b[0m\n",
      "\u001b[1;32m~\\.conda\\envs\\scraping_PEC\\lib\\site-packages\\selenium\\webdriver\\remote\\webelement.py\u001b[0m in \u001b[0;36mclick\u001b[1;34m(self)\u001b[0m\n\u001b[0;32m     78\u001b[0m     \u001b[1;32mdef\u001b[0m \u001b[0mclick\u001b[0m\u001b[1;33m(\u001b[0m\u001b[0mself\u001b[0m\u001b[1;33m)\u001b[0m\u001b[1;33m:\u001b[0m\u001b[1;33m\u001b[0m\u001b[1;33m\u001b[0m\u001b[0m\n\u001b[0;32m     79\u001b[0m         \u001b[1;34m\"\"\"Clicks the element.\"\"\"\u001b[0m\u001b[1;33m\u001b[0m\u001b[1;33m\u001b[0m\u001b[0m\n\u001b[1;32m---> 80\u001b[1;33m         \u001b[0mself\u001b[0m\u001b[1;33m.\u001b[0m\u001b[0m_execute\u001b[0m\u001b[1;33m(\u001b[0m\u001b[0mCommand\u001b[0m\u001b[1;33m.\u001b[0m\u001b[0mCLICK_ELEMENT\u001b[0m\u001b[1;33m)\u001b[0m\u001b[1;33m\u001b[0m\u001b[1;33m\u001b[0m\u001b[0m\n\u001b[0m\u001b[0;32m     81\u001b[0m \u001b[1;33m\u001b[0m\u001b[0m\n\u001b[0;32m     82\u001b[0m     \u001b[1;32mdef\u001b[0m \u001b[0msubmit\u001b[0m\u001b[1;33m(\u001b[0m\u001b[0mself\u001b[0m\u001b[1;33m)\u001b[0m\u001b[1;33m:\u001b[0m\u001b[1;33m\u001b[0m\u001b[1;33m\u001b[0m\u001b[0m\n",
      "\u001b[1;32m~\\.conda\\envs\\scraping_PEC\\lib\\site-packages\\selenium\\webdriver\\remote\\webelement.py\u001b[0m in \u001b[0;36m_execute\u001b[1;34m(self, command, params)\u001b[0m\n\u001b[0;32m    631\u001b[0m             \u001b[0mparams\u001b[0m \u001b[1;33m=\u001b[0m \u001b[1;33m{\u001b[0m\u001b[1;33m}\u001b[0m\u001b[1;33m\u001b[0m\u001b[1;33m\u001b[0m\u001b[0m\n\u001b[0;32m    632\u001b[0m         \u001b[0mparams\u001b[0m\u001b[1;33m[\u001b[0m\u001b[1;34m'id'\u001b[0m\u001b[1;33m]\u001b[0m \u001b[1;33m=\u001b[0m \u001b[0mself\u001b[0m\u001b[1;33m.\u001b[0m\u001b[0m_id\u001b[0m\u001b[1;33m\u001b[0m\u001b[1;33m\u001b[0m\u001b[0m\n\u001b[1;32m--> 633\u001b[1;33m         \u001b[1;32mreturn\u001b[0m \u001b[0mself\u001b[0m\u001b[1;33m.\u001b[0m\u001b[0m_parent\u001b[0m\u001b[1;33m.\u001b[0m\u001b[0mexecute\u001b[0m\u001b[1;33m(\u001b[0m\u001b[0mcommand\u001b[0m\u001b[1;33m,\u001b[0m \u001b[0mparams\u001b[0m\u001b[1;33m)\u001b[0m\u001b[1;33m\u001b[0m\u001b[1;33m\u001b[0m\u001b[0m\n\u001b[0m\u001b[0;32m    634\u001b[0m \u001b[1;33m\u001b[0m\u001b[0m\n\u001b[0;32m    635\u001b[0m     \u001b[1;32mdef\u001b[0m \u001b[0mfind_element\u001b[0m\u001b[1;33m(\u001b[0m\u001b[0mself\u001b[0m\u001b[1;33m,\u001b[0m \u001b[0mby\u001b[0m\u001b[1;33m=\u001b[0m\u001b[0mBy\u001b[0m\u001b[1;33m.\u001b[0m\u001b[0mID\u001b[0m\u001b[1;33m,\u001b[0m \u001b[0mvalue\u001b[0m\u001b[1;33m=\u001b[0m\u001b[1;32mNone\u001b[0m\u001b[1;33m)\u001b[0m\u001b[1;33m:\u001b[0m\u001b[1;33m\u001b[0m\u001b[1;33m\u001b[0m\u001b[0m\n",
      "\u001b[1;32m~\\.conda\\envs\\scraping_PEC\\lib\\site-packages\\selenium\\webdriver\\remote\\webdriver.py\u001b[0m in \u001b[0;36mexecute\u001b[1;34m(self, driver_command, params)\u001b[0m\n\u001b[0;32m    319\u001b[0m         \u001b[0mresponse\u001b[0m \u001b[1;33m=\u001b[0m \u001b[0mself\u001b[0m\u001b[1;33m.\u001b[0m\u001b[0mcommand_executor\u001b[0m\u001b[1;33m.\u001b[0m\u001b[0mexecute\u001b[0m\u001b[1;33m(\u001b[0m\u001b[0mdriver_command\u001b[0m\u001b[1;33m,\u001b[0m \u001b[0mparams\u001b[0m\u001b[1;33m)\u001b[0m\u001b[1;33m\u001b[0m\u001b[1;33m\u001b[0m\u001b[0m\n\u001b[0;32m    320\u001b[0m         \u001b[1;32mif\u001b[0m \u001b[0mresponse\u001b[0m\u001b[1;33m:\u001b[0m\u001b[1;33m\u001b[0m\u001b[1;33m\u001b[0m\u001b[0m\n\u001b[1;32m--> 321\u001b[1;33m             \u001b[0mself\u001b[0m\u001b[1;33m.\u001b[0m\u001b[0merror_handler\u001b[0m\u001b[1;33m.\u001b[0m\u001b[0mcheck_response\u001b[0m\u001b[1;33m(\u001b[0m\u001b[0mresponse\u001b[0m\u001b[1;33m)\u001b[0m\u001b[1;33m\u001b[0m\u001b[1;33m\u001b[0m\u001b[0m\n\u001b[0m\u001b[0;32m    322\u001b[0m             response['value'] = self._unwrap_value(\n\u001b[0;32m    323\u001b[0m                 response.get('value', None))\n",
      "\u001b[1;32m~\\.conda\\envs\\scraping_PEC\\lib\\site-packages\\selenium\\webdriver\\remote\\errorhandler.py\u001b[0m in \u001b[0;36mcheck_response\u001b[1;34m(self, response)\u001b[0m\n\u001b[0;32m    240\u001b[0m                 \u001b[0malert_text\u001b[0m \u001b[1;33m=\u001b[0m \u001b[0mvalue\u001b[0m\u001b[1;33m[\u001b[0m\u001b[1;34m'alert'\u001b[0m\u001b[1;33m]\u001b[0m\u001b[1;33m.\u001b[0m\u001b[0mget\u001b[0m\u001b[1;33m(\u001b[0m\u001b[1;34m'text'\u001b[0m\u001b[1;33m)\u001b[0m\u001b[1;33m\u001b[0m\u001b[1;33m\u001b[0m\u001b[0m\n\u001b[0;32m    241\u001b[0m             \u001b[1;32mraise\u001b[0m \u001b[0mexception_class\u001b[0m\u001b[1;33m(\u001b[0m\u001b[0mmessage\u001b[0m\u001b[1;33m,\u001b[0m \u001b[0mscreen\u001b[0m\u001b[1;33m,\u001b[0m \u001b[0mstacktrace\u001b[0m\u001b[1;33m,\u001b[0m \u001b[0malert_text\u001b[0m\u001b[1;33m)\u001b[0m\u001b[1;33m\u001b[0m\u001b[1;33m\u001b[0m\u001b[0m\n\u001b[1;32m--> 242\u001b[1;33m         \u001b[1;32mraise\u001b[0m \u001b[0mexception_class\u001b[0m\u001b[1;33m(\u001b[0m\u001b[0mmessage\u001b[0m\u001b[1;33m,\u001b[0m \u001b[0mscreen\u001b[0m\u001b[1;33m,\u001b[0m \u001b[0mstacktrace\u001b[0m\u001b[1;33m)\u001b[0m\u001b[1;33m\u001b[0m\u001b[1;33m\u001b[0m\u001b[0m\n\u001b[0m\u001b[0;32m    243\u001b[0m \u001b[1;33m\u001b[0m\u001b[0m\n\u001b[0;32m    244\u001b[0m     \u001b[1;32mdef\u001b[0m \u001b[0m_value_or_default\u001b[0m\u001b[1;33m(\u001b[0m\u001b[0mself\u001b[0m\u001b[1;33m,\u001b[0m \u001b[0mobj\u001b[0m\u001b[1;33m,\u001b[0m \u001b[0mkey\u001b[0m\u001b[1;33m,\u001b[0m \u001b[0mdefault\u001b[0m\u001b[1;33m)\u001b[0m\u001b[1;33m:\u001b[0m\u001b[1;33m\u001b[0m\u001b[1;33m\u001b[0m\u001b[0m\n",
      "\u001b[1;31mElementClickInterceptedException\u001b[0m: Message: element click intercepted: Element <input type=\"text\" class=\"form-control\" id=\"partita_iva\" placeholder=\"  \"> is not clickable at point (663, 354). Other element would receive the click: <div class=\"c-line lightgrey-bg-c1 px-4 py-4\">...</div>\n  (Session info: chrome=101.0.4951.67)\n"
     ]
    }
   ],
   "source": [
    "from utils import get_chromedriver, scrape_PEC\n",
    "\n",
    "scrape_PEC(chromedriver_path, web_page, VAT_file, VAT_file_sep, OUT_file_sep)"
   ]
  },
  {
   "cell_type": "code",
   "execution_count": 3,
   "id": "52c14e73",
   "metadata": {},
   "outputs": [],
   "source": [
    "import os\n",
    "import pandas as pd\n",
    "import zipfile\n",
    "from selenium import webdriver\n",
    "from selenium.webdriver.common.by import By\n",
    "from selenium.webdriver.common.keys import Keys\n",
    "from selenium.webdriver.support.ui import Select\n",
    "from selenium.common.exceptions import NoSuchElementException\n",
    "from selenium.common.exceptions import NoAlertPresentException\n",
    "import time, re\n",
    "from timeit import default_timer as timer\n",
    "import datetime\n",
    "\n",
    "from utils import get_chromedriver, scrape_PEC"
   ]
  },
  {
   "cell_type": "code",
   "execution_count": 4,
   "id": "71316d80",
   "metadata": {},
   "outputs": [
    {
     "name": "stdout",
     "output_type": "stream",
     "text": [
      "Launching Chrome...OK\n",
      "\n"
     ]
    }
   ],
   "source": [
    "LOG_FILE = \"log.txt\"\n",
    "SMALL_TIME_SLEEP = 0.5\n",
    "start = timer()\n",
    "\n",
    "# read VAT list\n",
    "df_VAT = pd.read_csv(VAT_file, dtype = 'str', sep = VAT_file_sep)\n",
    "\n",
    "# create/reload log\n",
    "if os.path.exists(LOG_FILE):\n",
    "    log = pd.read_table(LOG_FILE, delimiter = ';', dtype = 'str')\n",
    "else:\n",
    "    log = pd.DataFrame(columns = ['VAT', 'PEC'])\n",
    "    with open(LOG_FILE, 'a') as f:\n",
    "        f.write('\"VAT\";\"PEC\"')\n",
    "\n",
    "# open browser and go to website\n",
    "print(\"Launching Chrome...\", end =\"\")\n",
    "driver = get_chromedriver(chromedriver_path = chromedriver_path)\n",
    "driver.implicitly_wait(3)\n",
    "driver.get(web_page)\n",
    "print(\"OK\", end =\"\\n\\n\")"
   ]
  },
  {
   "cell_type": "code",
   "execution_count": 5,
   "id": "e0c3975e",
   "metadata": {},
   "outputs": [],
   "source": [
    "vat = \"03091390546\""
   ]
  },
  {
   "cell_type": "code",
   "execution_count": null,
   "id": "62358057",
   "metadata": {},
   "outputs": [],
   "source": [
    "# loop VAT\n",
    "df_out = pd.DataFrame(columns = ['VAT', 'PEC'])\n",
    "tot_vat = df_VAT.shape[0]\n",
    "for vat_i, vat in enumerate(df_VAT.VAT.values):\n",
    "\n",
    "    print(\"Querying VAT\", str(vat_i+1), \"/\", str(tot_vat), end = \"\\r\")\n",
    "    if vat not in log.VAT.values:    # check if VAT already in log\n",
    "        stop = 0\n",
    "        while stop == 0:\n",
    "            driver.find_element_by_id(\"partita_iva\").click()\n",
    "            driver.find_element_by_id(\"partita_iva\").clear()\n",
    "            driver.find_element_by_id(\"partita_iva\").send_keys(vat)\n",
    "            driver.find_element_by_id(\"button_calcola\").click()\n",
    "            time.sleep(SMALL_TIME_SLEEP)\n",
    "            pec = driver.find_element_by_id('codice').get_attribute(\"textContent\")\n",
    "            if pec == '':\n",
    "                pec = 'not found'\n",
    "            if pec != 'not found' and pec not in df_out.PEC.values:\n",
    "                stop = 1\n",
    "\n",
    "        # update and save log\n",
    "        log = log.append({'VAT': vat, 'PEC': pec}, ignore_index=True)\n",
    "        with open(LOG_FILE, 'a') as f:\n",
    "            f.write('\\n\"'+vat+'\";\"'+pec+'\"')\n",
    "    else:\n",
    "        pec = log[log.VAT == vat].PEC.values[0]\n",
    "\n",
    "    # update list\n",
    "    df_out = df_out.append({'VAT': vat, 'PEC': pec}, ignore_index=True)\n",
    "\n",
    "# check for duplicated PEC\n",
    "check_PEC = df_out.PEC.value_counts().rename_axis('PEC').reset_index(name='counts')\n",
    "if check_PEC.counts.max() > 1:\n",
    "    duplicated_PEC = check_PEC[check_PEC.counts > 1]\n",
    "    duplicated_PEC.merge(df_out, on='PEC').sort_values(by=['PEC']).to_csv('duplicated_PEC.csv', sep=OUT_file_sep, index=False, quoting=1)\n",
    "    print('\\n\\n ###### duplicated PEC found:', duplicated_PEC.shape[0], ' - saved in \"duplicated_PEC.csv\"\\n')\n",
    "\n",
    "# display report of missing PEC\n",
    "print('\\n\\nVAT without PEC:', df_out[df_out.PEC == \"not found\"].shape[0])\n",
    "\n",
    "# save output\n",
    "df_out.to_csv('PEC_list.csv', sep=OUT_file_sep, index=False, quoting=1)"
   ]
  }
 ],
 "metadata": {
  "kernelspec": {
   "display_name": "Python (Scraping PEC)",
   "language": "python",
   "name": "scraping_pec"
  },
  "language_info": {
   "codemirror_mode": {
    "name": "ipython",
    "version": 3
   },
   "file_extension": ".py",
   "mimetype": "text/x-python",
   "name": "python",
   "nbconvert_exporter": "python",
   "pygments_lexer": "ipython3",
   "version": "3.6.15"
  }
 },
 "nbformat": 4,
 "nbformat_minor": 5
}
