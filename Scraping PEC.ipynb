{
 "cells": [
  {
   "cell_type": "markdown",
   "id": "cb5a85aa",
   "metadata": {},
   "source": [
    "# Inputs"
   ]
  },
  {
   "cell_type": "code",
   "execution_count": 1,
   "id": "7f75ab1d",
   "metadata": {},
   "outputs": [],
   "source": [
    "# Path to chromedriver. Use same \\ and keep leading r\n",
    "chromedriver_path = r\"C:\\Users\\Alessandro Bitetto\\Downloads\\UniPV\\Scraping_PEC\\WebDriver\\chromedriver\"\n",
    "\n",
    "# web page\n",
    "web_page = \"https://www.ufficiocamerale.it/cerca-pec-azienda\"\n",
    "\n",
    "# VAT list  - VAT must be without leading \"IT\" - .csv with 1 column \"VAT\" - Use same \\ and keep leading r\n",
    "VAT_file = r\"C:\\Users\\Alessandro Bitetto\\Downloads\\110Laude\\110L_SIR\\03_Output\\df_VAR_for_PEC.csv\"\n",
    "VAT_file_sep = \";\"\n",
    "\n",
    "# output csv separator\n",
    "OUT_file_sep = \";\""
   ]
  },
  {
   "cell_type": "markdown",
   "id": "77606181",
   "metadata": {},
   "source": [
    "# Scrape"
   ]
  },
  {
   "cell_type": "code",
   "execution_count": 2,
   "id": "09d69ceb",
   "metadata": {
    "scrolled": true
   },
   "outputs": [
    {
     "name": "stdout",
     "output_type": "stream",
     "text": [
      "Launching Chrome...OK\n",
      "\n",
      "Querying VAT 7872 / 7876                                         \n",
      "\n",
      " ###### duplicated PEC found: 2  - saved in \"duplicated_PEC.csv\"\n",
      "\n",
      "\n",
      "\n",
      "VAT without PEC: 175\n",
      "\n",
      "\n",
      "Total elapsed time: 0:11:12\n",
      "\n",
      "\n",
      "Log list saved in \"log.txt\"\n",
      "PEC list saved in \"PEC_list.csv\"\n"
     ]
    }
   ],
   "source": [
    "from utils import get_chromedriver, scrape_PEC\n",
    "\n",
    "scrape_PEC(chromedriver_path, web_page, VAT_file, VAT_file_sep, OUT_file_sep)"
   ]
  }
 ],
 "metadata": {
  "kernelspec": {
   "display_name": "Python (Scraping PEC)",
   "language": "python",
   "name": "scraping_pec"
  },
  "language_info": {
   "codemirror_mode": {
    "name": "ipython",
    "version": 3
   },
   "file_extension": ".py",
   "mimetype": "text/x-python",
   "name": "python",
   "nbconvert_exporter": "python",
   "pygments_lexer": "ipython3",
   "version": "3.6.15"
  }
 },
 "nbformat": 4,
 "nbformat_minor": 5
}
