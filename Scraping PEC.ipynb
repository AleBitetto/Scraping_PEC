{
 "cells": [
  {
   "cell_type": "markdown",
   "id": "c66b64e7",
   "metadata": {},
   "source": [
    "# Inputs"
   ]
  },
  {
   "cell_type": "code",
   "execution_count": 3,
   "id": "6438f0bb",
   "metadata": {},
   "outputs": [],
   "source": [
    "# Path to chromedriver. Use same \\ and keep leading r\n",
    "chromedriver_path = r\"C:\\Users\\Alessandro Bitetto\\Downloads\\UniPV\\Scraping_PEC\\WebDriver\\chromedriver\"\n",
    "\n",
    "# web page\n",
    "web_page = \"https://www.ufficiocamerale.it/cerca-pec-azienda\"\n",
    "\n",
    "# VAT list  - VAT must be without leading \"IT\" - .csv with 1 column \"VAT\" - Use same \\ and keep leading r\n",
    "VAT_file = r\"C:\\Users\\Alessandro Bitetto\\Downloads\\110Laude\\110L_SIR\\03_Output\\df_VAR_for_PEC.csv\"\n",
    "VAT_file_sep = \";\"\n",
    "\n",
    "# output csv separator\n",
    "OUT_file_sep = \";\""
   ]
  },
  {
   "cell_type": "markdown",
   "id": "95896d43",
   "metadata": {},
   "source": [
    "# Scrape"
   ]
  },
  {
   "cell_type": "code",
   "execution_count": null,
   "id": "ae6152c7",
   "metadata": {
    "scrolled": true
   },
   "outputs": [
    {
     "name": "stdout",
     "output_type": "stream",
     "text": [
      "Launching Chrome...OK\n",
      "\n",
      "Querying VAT 59 / 7876                                         \r"
     ]
    }
   ],
   "source": [
    "from utils import get_chromedriver, scrape_PEC\n",
    "\n",
    "scrape_PEC(chromedriver_path, web_page, VAT_file, VAT_file_sep, OUT_file_sep)"
   ]
  },
  {
   "cell_type": "code",
   "execution_count": null,
   "id": "67c099f0",
   "metadata": {},
   "outputs": [],
   "source": []
  }
 ],
 "metadata": {
  "kernelspec": {
   "display_name": "Python (Scraping PEC)",
   "language": "python",
   "name": "scraping_pec"
  },
  "language_info": {
   "codemirror_mode": {
    "name": "ipython",
    "version": 3
   },
   "file_extension": ".py",
   "mimetype": "text/x-python",
   "name": "python",
   "nbconvert_exporter": "python",
   "pygments_lexer": "ipython3",
   "version": "3.6.15"
  }
 },
 "nbformat": 4,
 "nbformat_minor": 5
}
